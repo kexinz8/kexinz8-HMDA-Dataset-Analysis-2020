{
 "cells": [
  {
   "cell_type": "code",
   "execution_count": 1,
   "metadata": {},
   "outputs": [],
   "source": [
    "import pandas as pd\n",
    "import seaborn as sns\n",
    "import matplotlib.pyplot as plt\n",
    "from scipy.stats import chi2_contingency, zscore\n",
    "import numpy as np\n",
    "from wordcloud import WordCloud"
   ]
  },
  {
   "cell_type": "code",
   "execution_count": null,
   "metadata": {},
   "outputs": [],
   "source": []
  },
  {
   "cell_type": "markdown",
   "metadata": {},
   "source": []
  },
  {
   "cell_type": "markdown",
   "metadata": {},
   "source": [
    "# Data Understanding"
   ]
  },
  {
   "cell_type": "code",
   "execution_count": 2,
   "metadata": {},
   "outputs": [
    {
     "name": "stderr",
     "output_type": "stream",
     "text": [
      "/Library/Frameworks/Python.framework/Versions/3.9/lib/python3.9/site-packages/IPython/core/interactiveshell.py:3457: DtypeWarning: Columns (22,23,24,26,27,28,29,30,31,32,33,38,43,44,46) have mixed types.Specify dtype option on import or set low_memory=False.\n",
      "  exec(code_obj, self.user_global_ns, self.user_ns)\n"
     ]
    }
   ],
   "source": [
    "org = pd.read_csv('/Users/kexinz8/Downloads/state_CA-IL.csv')"
   ]
  },
  {
   "cell_type": "code",
   "execution_count": 3,
   "metadata": {},
   "outputs": [
    {
     "data": {
      "text/plain": [
       "(4310938, 99)"
      ]
     },
     "execution_count": 3,
     "metadata": {},
     "output_type": "execute_result"
    }
   ],
   "source": [
    "org.shape"
   ]
  },
  {
   "cell_type": "code",
   "execution_count": 4,
   "metadata": {},
   "outputs": [
    {
     "data": {
      "text/plain": [
       "(4310938, 99)"
      ]
     },
     "execution_count": 4,
     "metadata": {},
     "output_type": "execute_result"
    }
   ],
   "source": [
    "actionDic = {1:'Approve', 2:'Approve', 5:'Approve', 6:'Approve', 8:'Approve', 3:'Reject', 7:'Reject', 4:\"withdrawn\"}\n",
    "org = org.replace({\"action_taken\": actionDic})\n",
    "org.shape"
   ]
  },
  {
   "cell_type": "markdown",
   "metadata": {},
   "source": [
    "# Comparisons of CA and IL approved cases"
   ]
  },
  {
   "cell_type": "code",
   "execution_count": 106,
   "metadata": {},
   "outputs": [
    {
     "data": {
      "text/plain": [
       "(3266780, 99)"
      ]
     },
     "execution_count": 106,
     "metadata": {},
     "output_type": "execute_result"
    }
   ],
   "source": [
    "aprv = org[org['action_taken'] == 'Approve']\n",
    "aprv.shape"
   ]
  },
  {
   "cell_type": "markdown",
   "metadata": {},
   "source": [
    "### Approval rate"
   ]
  },
  {
   "cell_type": "code",
   "execution_count": 107,
   "metadata": {},
   "outputs": [
    {
     "data": {
      "text/plain": [
       "state_code      0\n",
       "action_taken    0\n",
       "dtype: int64"
      ]
     },
     "execution_count": 107,
     "metadata": {},
     "output_type": "execute_result"
    }
   ],
   "source": [
    "aprv[['state_code', 'action_taken']].isnull().sum()"
   ]
  },
  {
   "cell_type": "code",
   "execution_count": 108,
   "metadata": {},
   "outputs": [
    {
     "data": {
      "text/html": [
       "<div>\n",
       "<style scoped>\n",
       "    .dataframe tbody tr th:only-of-type {\n",
       "        vertical-align: middle;\n",
       "    }\n",
       "\n",
       "    .dataframe tbody tr th {\n",
       "        vertical-align: top;\n",
       "    }\n",
       "\n",
       "    .dataframe thead th {\n",
       "        text-align: right;\n",
       "    }\n",
       "</style>\n",
       "<table border=\"1\" class=\"dataframe\">\n",
       "  <thead>\n",
       "    <tr style=\"text-align: right;\">\n",
       "      <th>action_taken</th>\n",
       "      <th>Approve</th>\n",
       "      <th>Reject</th>\n",
       "      <th>withdrawn</th>\n",
       "    </tr>\n",
       "    <tr>\n",
       "      <th>state_code</th>\n",
       "      <th></th>\n",
       "      <th></th>\n",
       "      <th></th>\n",
       "    </tr>\n",
       "  </thead>\n",
       "  <tbody>\n",
       "    <tr>\n",
       "      <th>CA</th>\n",
       "      <td>0.755083</td>\n",
       "      <td>0.101167</td>\n",
       "      <td>0.143751</td>\n",
       "    </tr>\n",
       "    <tr>\n",
       "      <th>IL</th>\n",
       "      <td>0.768435</td>\n",
       "      <td>0.101337</td>\n",
       "      <td>0.130228</td>\n",
       "    </tr>\n",
       "  </tbody>\n",
       "</table>\n",
       "</div>"
      ],
      "text/plain": [
       "action_taken   Approve    Reject  withdrawn\n",
       "state_code                                 \n",
       "CA            0.755083  0.101167   0.143751\n",
       "IL            0.768435  0.101337   0.130228"
      ]
     },
     "execution_count": 108,
     "metadata": {},
     "output_type": "execute_result"
    }
   ],
   "source": [
    "contigency = pd.crosstab(org['state_code'], org['action_taken'], normalize='index')\n",
    "contigency"
   ]
  },
  {
   "cell_type": "markdown",
   "metadata": {},
   "source": [
    "Chi-Sqaure test of independence"
   ]
  },
  {
   "cell_type": "code",
   "execution_count": 109,
   "metadata": {},
   "outputs": [
    {
     "data": {
      "text/plain": [
       "0.9996077910517854"
      ]
     },
     "execution_count": 109,
     "metadata": {},
     "output_type": "execute_result"
    }
   ],
   "source": [
    "c, p, dof, expected = chi2_contingency(contigency)\n",
    "p"
   ]
  },
  {
   "cell_type": "markdown",
   "metadata": {},
   "source": [
    "The p-value is 99.96% which means that we do not reject the null hypothesis at 95% level of confidence."
   ]
  },
  {
   "cell_type": "markdown",
   "metadata": {},
   "source": [
    "### Characteristics of Loan"
   ]
  },
  {
   "cell_type": "markdown",
   "metadata": {},
   "source": [
    "#### Loan Amount"
   ]
  },
  {
   "cell_type": "code",
   "execution_count": 110,
   "metadata": {},
   "outputs": [
    {
     "data": {
      "text/plain": [
       "0"
      ]
     },
     "execution_count": 110,
     "metadata": {},
     "output_type": "execute_result"
    }
   ],
   "source": [
    "aprv['loan_amount'].isnull().sum()"
   ]
  },
  {
   "cell_type": "code",
   "execution_count": 111,
   "metadata": {},
   "outputs": [
    {
     "data": {
      "text/html": [
       "<div>\n",
       "<style scoped>\n",
       "    .dataframe tbody tr th:only-of-type {\n",
       "        vertical-align: middle;\n",
       "    }\n",
       "\n",
       "    .dataframe tbody tr th {\n",
       "        vertical-align: top;\n",
       "    }\n",
       "\n",
       "    .dataframe thead th {\n",
       "        text-align: right;\n",
       "    }\n",
       "</style>\n",
       "<table border=\"1\" class=\"dataframe\">\n",
       "  <thead>\n",
       "    <tr style=\"text-align: right;\">\n",
       "      <th></th>\n",
       "      <th>count</th>\n",
       "      <th>mean</th>\n",
       "      <th>std</th>\n",
       "      <th>min</th>\n",
       "      <th>25%</th>\n",
       "      <th>50%</th>\n",
       "      <th>75%</th>\n",
       "      <th>max</th>\n",
       "    </tr>\n",
       "    <tr>\n",
       "      <th>state_code</th>\n",
       "      <th></th>\n",
       "      <th></th>\n",
       "      <th></th>\n",
       "      <th></th>\n",
       "      <th></th>\n",
       "      <th></th>\n",
       "      <th></th>\n",
       "      <th></th>\n",
       "    </tr>\n",
       "  </thead>\n",
       "  <tbody>\n",
       "    <tr>\n",
       "      <th>CA</th>\n",
       "      <td>2595384.0</td>\n",
       "      <td>451472.995903</td>\n",
       "      <td>1.308835e+06</td>\n",
       "      <td>5000.0</td>\n",
       "      <td>265000.0</td>\n",
       "      <td>385000.0</td>\n",
       "      <td>515000.0</td>\n",
       "      <td>711005000.0</td>\n",
       "    </tr>\n",
       "    <tr>\n",
       "      <th>IL</th>\n",
       "      <td>671396.0</td>\n",
       "      <td>248850.216564</td>\n",
       "      <td>5.555550e+05</td>\n",
       "      <td>5000.0</td>\n",
       "      <td>135000.0</td>\n",
       "      <td>205000.0</td>\n",
       "      <td>305000.0</td>\n",
       "      <td>165605000.0</td>\n",
       "    </tr>\n",
       "  </tbody>\n",
       "</table>\n",
       "</div>"
      ],
      "text/plain": [
       "                count           mean           std     min       25%  \\\n",
       "state_code                                                             \n",
       "CA          2595384.0  451472.995903  1.308835e+06  5000.0  265000.0   \n",
       "IL           671396.0  248850.216564  5.555550e+05  5000.0  135000.0   \n",
       "\n",
       "                 50%       75%          max  \n",
       "state_code                                   \n",
       "CA          385000.0  515000.0  711005000.0  \n",
       "IL          205000.0  305000.0  165605000.0  "
      ]
     },
     "execution_count": 111,
     "metadata": {},
     "output_type": "execute_result"
    }
   ],
   "source": [
    "aprv.groupby('state_code')['loan_amount'].describe()"
   ]
  },
  {
   "cell_type": "code",
   "execution_count": 112,
   "metadata": {},
   "outputs": [
    {
     "data": {
      "text/plain": [
       "<AxesSubplot:xlabel='state_code', ylabel='loan_amount'>"
      ]
     },
     "execution_count": 112,
     "metadata": {},
     "output_type": "execute_result"
    },
    {
     "data": {
      "image/png": "[encoded data removed]",
      "text/plain": [
       "<Figure size 432x288 with 1 Axes>"
      ]
     },
     "metadata": {
      "needs_background": "light"
     },
     "output_type": "display_data"
    }
   ],
   "source": [
    "sns.boxplot(data=aprv, x=\"state_code\", y=\"loan_amount\", showfliers = False, palette=\"Blues\")"
   ]
  },
  {
   "cell_type": "markdown",
   "metadata": {},
   "source": [
    "### Interest Rate"
   ]
  },
  {
   "cell_type": "code",
   "execution_count": 113,
   "metadata": {},
   "outputs": [
    {
     "data": {
      "text/plain": [
       "219346"
      ]
     },
     "execution_count": 113,
     "metadata": {},
     "output_type": "execute_result"
    }
   ],
   "source": [
    "aprv['interest_rate'].isnull().sum()"
   ]
  },
  {
   "cell_type": "code",
   "execution_count": 114,
   "metadata": {},
   "outputs": [
    {
     "name": "stderr",
     "output_type": "stream",
     "text": [
      "/var/folders/qv/rxdwppfn7vs0fnsc3154yt9c0000gn/T/ipykernel_2184/2079478058.py:2: SettingWithCopyWarning: \n",
      "A value is trying to be set on a copy of a slice from a DataFrame.\n",
      "Try using .loc[row_indexer,col_indexer] = value instead\n",
      "\n",
      "See the caveats in the documentation: https://pandas.pydata.org/pandas-docs/stable/user_guide/indexing.html#returning-a-view-versus-a-copy\n",
      "  tmp['interest_rate'] = tmp['interest_rate'].astype(float)\n"
     ]
    },
    {
     "data": {
      "text/html": [
       "<div>\n",
       "<style scoped>\n",
       "    .dataframe tbody tr th:only-of-type {\n",
       "        vertical-align: middle;\n",
       "    }\n",
       "\n",
       "    .dataframe tbody tr th {\n",
       "        vertical-align: top;\n",
       "    }\n",
       "\n",
       "    .dataframe thead th {\n",
       "        text-align: right;\n",
       "    }\n",
       "</style>\n",
       "<table border=\"1\" class=\"dataframe\">\n",
       "  <thead>\n",
       "    <tr style=\"text-align: right;\">\n",
       "      <th></th>\n",
       "      <th>count</th>\n",
       "      <th>mean</th>\n",
       "      <th>std</th>\n",
       "      <th>min</th>\n",
       "      <th>25%</th>\n",
       "      <th>50%</th>\n",
       "      <th>75%</th>\n",
       "      <th>max</th>\n",
       "    </tr>\n",
       "    <tr>\n",
       "      <th>state_code</th>\n",
       "      <th></th>\n",
       "      <th></th>\n",
       "      <th></th>\n",
       "      <th></th>\n",
       "      <th></th>\n",
       "      <th></th>\n",
       "      <th></th>\n",
       "      <th></th>\n",
       "    </tr>\n",
       "  </thead>\n",
       "  <tbody>\n",
       "    <tr>\n",
       "      <th>CA</th>\n",
       "      <td>2401127.0</td>\n",
       "      <td>3.206369</td>\n",
       "      <td>15.509907</td>\n",
       "      <td>0.0</td>\n",
       "      <td>2.75</td>\n",
       "      <td>3.000</td>\n",
       "      <td>3.5</td>\n",
       "      <td>23625.0</td>\n",
       "    </tr>\n",
       "    <tr>\n",
       "      <th>IL</th>\n",
       "      <td>598473.0</td>\n",
       "      <td>3.292333</td>\n",
       "      <td>4.432735</td>\n",
       "      <td>0.0</td>\n",
       "      <td>2.75</td>\n",
       "      <td>3.125</td>\n",
       "      <td>3.5</td>\n",
       "      <td>900.0</td>\n",
       "    </tr>\n",
       "  </tbody>\n",
       "</table>\n",
       "</div>"
      ],
      "text/plain": [
       "                count      mean        std  min   25%    50%  75%      max\n",
       "state_code                                                                \n",
       "CA          2401127.0  3.206369  15.509907  0.0  2.75  3.000  3.5  23625.0\n",
       "IL           598473.0  3.292333   4.432735  0.0  2.75  3.125  3.5    900.0"
      ]
     },
     "execution_count": 114,
     "metadata": {},
     "output_type": "execute_result"
    }
   ],
   "source": [
    "tmp=aprv[aprv['interest_rate'] != 'Exempt']\n",
    "tmp['interest_rate'] = tmp['interest_rate'].astype(float)\n",
    "tmp.groupby('state_code')['interest_rate'].describe()"
   ]
  },
  {
   "cell_type": "code",
   "execution_count": 115,
   "metadata": {},
   "outputs": [
    {
     "data": {
      "text/plain": [
       "<AxesSubplot:xlabel='state_code', ylabel='interest_rate'>"
      ]
     },
     "execution_count": 115,
     "metadata": {},
     "output_type": "execute_result"
    },
    {
     "data": {
      "image/png": "[encoded data removed]",
      "text/plain": [
       "<Figure size 432x288 with 1 Axes>"
      ]
     },
     "metadata": {
      "needs_background": "light"
     },
     "output_type": "display_data"
    }
   ],
   "source": [
    "sns.boxplot(data=tmp, x=\"state_code\", y=\"interest_rate\", showfliers = False, palette=\"Set3\")"
   ]
  },
  {
   "cell_type": "markdown",
   "metadata": {},
   "source": [
    "### Loan term"
   ]
  },
  {
   "cell_type": "code",
   "execution_count": 116,
   "metadata": {},
   "outputs": [
    {
     "name": "stderr",
     "output_type": "stream",
     "text": [
      "/var/folders/qv/rxdwppfn7vs0fnsc3154yt9c0000gn/T/ipykernel_2184/3817864054.py:2: SettingWithCopyWarning: \n",
      "A value is trying to be set on a copy of a slice from a DataFrame.\n",
      "Try using .loc[row_indexer,col_indexer] = value instead\n",
      "\n",
      "See the caveats in the documentation: https://pandas.pydata.org/pandas-docs/stable/user_guide/indexing.html#returning-a-view-versus-a-copy\n",
      "  tmp['loan_term'] = tmp['loan_term'].astype(float)\n"
     ]
    },
    {
     "data": {
      "text/html": [
       "<div>\n",
       "<style scoped>\n",
       "    .dataframe tbody tr th:only-of-type {\n",
       "        vertical-align: middle;\n",
       "    }\n",
       "\n",
       "    .dataframe tbody tr th {\n",
       "        vertical-align: top;\n",
       "    }\n",
       "\n",
       "    .dataframe thead th {\n",
       "        text-align: right;\n",
       "    }\n",
       "</style>\n",
       "<table border=\"1\" class=\"dataframe\">\n",
       "  <thead>\n",
       "    <tr style=\"text-align: right;\">\n",
       "      <th></th>\n",
       "      <th>count</th>\n",
       "      <th>mean</th>\n",
       "      <th>std</th>\n",
       "      <th>min</th>\n",
       "      <th>25%</th>\n",
       "      <th>50%</th>\n",
       "      <th>75%</th>\n",
       "      <th>max</th>\n",
       "    </tr>\n",
       "    <tr>\n",
       "      <th>state_code</th>\n",
       "      <th></th>\n",
       "      <th></th>\n",
       "      <th></th>\n",
       "      <th></th>\n",
       "      <th></th>\n",
       "      <th></th>\n",
       "      <th></th>\n",
       "      <th></th>\n",
       "    </tr>\n",
       "  </thead>\n",
       "  <tbody>\n",
       "    <tr>\n",
       "      <th>CA</th>\n",
       "      <td>2561416.0</td>\n",
       "      <td>332.541187</td>\n",
       "      <td>221.432701</td>\n",
       "      <td>1.0</td>\n",
       "      <td>360.0</td>\n",
       "      <td>360.0</td>\n",
       "      <td>360.0</td>\n",
       "      <td>339000.0</td>\n",
       "    </tr>\n",
       "    <tr>\n",
       "      <th>IL</th>\n",
       "      <td>634589.0</td>\n",
       "      <td>311.212733</td>\n",
       "      <td>82.813307</td>\n",
       "      <td>1.0</td>\n",
       "      <td>240.0</td>\n",
       "      <td>360.0</td>\n",
       "      <td>360.0</td>\n",
       "      <td>3660.0</td>\n",
       "    </tr>\n",
       "  </tbody>\n",
       "</table>\n",
       "</div>"
      ],
      "text/plain": [
       "                count        mean         std  min    25%    50%    75%  \\\n",
       "state_code                                                                \n",
       "CA          2561416.0  332.541187  221.432701  1.0  360.0  360.0  360.0   \n",
       "IL           634589.0  311.212733   82.813307  1.0  240.0  360.0  360.0   \n",
       "\n",
       "                 max  \n",
       "state_code            \n",
       "CA          339000.0  \n",
       "IL            3660.0  "
      ]
     },
     "execution_count": 116,
     "metadata": {},
     "output_type": "execute_result"
    }
   ],
   "source": [
    "tmp=aprv[aprv['loan_term'] != 'Exempt']\n",
    "tmp['loan_term'] = tmp['loan_term'].astype(float)\n",
    "tmp.groupby('state_code')['loan_term'].describe()"
   ]
  },
  {
   "cell_type": "markdown",
   "metadata": {},
   "source": [
    "### Customer side"
   ]
  },
  {
   "cell_type": "markdown",
   "metadata": {},
   "source": [
    "#### Who are they?"
   ]
  },
  {
   "cell_type": "code",
   "execution_count": 289,
   "metadata": {},
   "outputs": [
    {
     "data": {
      "text/plain": [
       "<AxesSubplot:ylabel='applicant_age'>"
      ]
     },
     "execution_count": 289,
     "metadata": {},
     "output_type": "execute_result"
    },
    {
     "data": {
      "image/png": "[encoded data removed]",
      "text/plain": [
       "<Figure size 432x288 with 1 Axes>"
      ]
     },
     "metadata": {},
     "output_type": "display_data"
    }
   ],
   "source": [
    "# Age - CA\n",
    "d=aprv[aprv['state_code']=='CA']['applicant_age'].value_counts()\n",
    "palette_color = sns.color_palette('pastel')\n",
    "d.plot.pie(autopct=\"%.1f%%\", colors = palette_color)"
   ]
  },
  {
   "cell_type": "code",
   "execution_count": 118,
   "metadata": {},
   "outputs": [
    {
     "data": {
      "text/plain": [
       "<AxesSubplot:ylabel='applicant_age'>"
      ]
     },
     "execution_count": 118,
     "metadata": {},
     "output_type": "execute_result"
    },
    {
     "data": {
      "image/png": "[encoded data removed]",
      "text/plain": [
       "<Figure size 432x288 with 1 Axes>"
      ]
     },
     "metadata": {},
     "output_type": "display_data"
    }
   ],
   "source": [
    "# Age - IL\n",
    "d=aprv[aprv['state_code']=='IL']['applicant_age'].value_counts()\n",
    "palette_color = sns.color_palette('deep')\n",
    "d.plot.pie(autopct=\"%.1f%%\", colors = palette_color)"
   ]
  },
  {
   "cell_type": "code",
   "execution_count": 290,
   "metadata": {},
   "outputs": [
    {
     "data": {
      "text/html": [
       "<div>\n",
       "<style scoped>\n",
       "    .dataframe tbody tr th:only-of-type {\n",
       "        vertical-align: middle;\n",
       "    }\n",
       "\n",
       "    .dataframe tbody tr th {\n",
       "        vertical-align: top;\n",
       "    }\n",
       "\n",
       "    .dataframe thead th {\n",
       "        text-align: right;\n",
       "    }\n",
       "</style>\n",
       "<table border=\"1\" class=\"dataframe\">\n",
       "  <thead>\n",
       "    <tr style=\"text-align: right;\">\n",
       "      <th>derived_race</th>\n",
       "      <th>2 or more minority races</th>\n",
       "      <th>American Indian or Alaska Native</th>\n",
       "      <th>Asian</th>\n",
       "      <th>Black or African American</th>\n",
       "      <th>Free Form Text Only</th>\n",
       "      <th>Joint</th>\n",
       "      <th>Native Hawaiian or Other Pacific Islander</th>\n",
       "      <th>White</th>\n",
       "    </tr>\n",
       "    <tr>\n",
       "      <th>state_code</th>\n",
       "      <th></th>\n",
       "      <th></th>\n",
       "      <th></th>\n",
       "      <th></th>\n",
       "      <th></th>\n",
       "      <th></th>\n",
       "      <th></th>\n",
       "      <th></th>\n",
       "    </tr>\n",
       "  </thead>\n",
       "  <tbody>\n",
       "    <tr>\n",
       "      <th>CA</th>\n",
       "      <td>0.002037</td>\n",
       "      <td>0.005840</td>\n",
       "      <td>0.204973</td>\n",
       "      <td>0.037469</td>\n",
       "      <td>0.000113</td>\n",
       "      <td>0.040530</td>\n",
       "      <td>0.005070</td>\n",
       "      <td>0.703968</td>\n",
       "    </tr>\n",
       "    <tr>\n",
       "      <th>IL</th>\n",
       "      <td>0.000938</td>\n",
       "      <td>0.002895</td>\n",
       "      <td>0.076290</td>\n",
       "      <td>0.056547</td>\n",
       "      <td>0.000030</td>\n",
       "      <td>0.019366</td>\n",
       "      <td>0.001026</td>\n",
       "      <td>0.842909</td>\n",
       "    </tr>\n",
       "  </tbody>\n",
       "</table>\n",
       "</div>"
      ],
      "text/plain": [
       "derived_race  2 or more minority races  American Indian or Alaska Native  \\\n",
       "state_code                                                                 \n",
       "CA                            0.002037                          0.005840   \n",
       "IL                            0.000938                          0.002895   \n",
       "\n",
       "derived_race     Asian  Black or African American  Free Form Text Only  \\\n",
       "state_code                                                               \n",
       "CA            0.204973                   0.037469             0.000113   \n",
       "IL            0.076290                   0.056547             0.000030   \n",
       "\n",
       "derived_race     Joint  Native Hawaiian or Other Pacific Islander     White  \n",
       "state_code                                                                   \n",
       "CA            0.040530                                   0.005070  0.703968  \n",
       "IL            0.019366                                   0.001026  0.842909  "
      ]
     },
     "execution_count": 290,
     "metadata": {},
     "output_type": "execute_result"
    }
   ],
   "source": [
    "# Race\n",
    "tmp = aprv[aprv['derived_race']!='Race Not Available']\n",
    "cross_tab = pd.crosstab(index=tmp['state_code'], columns=tmp['derived_race'], normalize=\"index\")\n",
    "cross_tab"
   ]
  },
  {
   "cell_type": "code",
   "execution_count": 292,
   "metadata": {},
   "outputs": [
    {
     "data": {
      "image/png": "[encoded data removed]",
      "text/plain": [
       "<Figure size 720x432 with 1 Axes>"
      ]
     },
     "metadata": {
      "needs_background": "light"
     },
     "output_type": "display_data"
    }
   ],
   "source": [
    "cross_tab.plot(kind='bar', \n",
    "                stacked=True, \n",
    "                colormap='tab20', \n",
    "                figsize=(10, 6))\n",
    "\n",
    "plt.legend(loc=\"upper left\", ncol=2)\n",
    "plt.xlabel(\"State\")\n",
    "plt.ylabel(\"Proportion\")\n",
    "plt.show()"
   ]
  },
  {
   "cell_type": "markdown",
   "metadata": {},
   "source": [
    "#### Lender credits"
   ]
  },
  {
   "cell_type": "code",
   "execution_count": 121,
   "metadata": {},
   "outputs": [
    {
     "name": "stderr",
     "output_type": "stream",
     "text": [
      "/var/folders/qv/rxdwppfn7vs0fnsc3154yt9c0000gn/T/ipykernel_2184/138340445.py:2: SettingWithCopyWarning: \n",
      "A value is trying to be set on a copy of a slice from a DataFrame.\n",
      "Try using .loc[row_indexer,col_indexer] = value instead\n",
      "\n",
      "See the caveats in the documentation: https://pandas.pydata.org/pandas-docs/stable/user_guide/indexing.html#returning-a-view-versus-a-copy\n",
      "  tmp['lender_credits'] = tmp['lender_credits'].astype(float)\n"
     ]
    },
    {
     "data": {
      "text/html": [
       "<div>\n",
       "<style scoped>\n",
       "    .dataframe tbody tr th:only-of-type {\n",
       "        vertical-align: middle;\n",
       "    }\n",
       "\n",
       "    .dataframe tbody tr th {\n",
       "        vertical-align: top;\n",
       "    }\n",
       "\n",
       "    .dataframe thead tr th {\n",
       "        text-align: left;\n",
       "    }\n",
       "\n",
       "    .dataframe thead tr:last-of-type th {\n",
       "        text-align: right;\n",
       "    }\n",
       "</style>\n",
       "<table border=\"1\" class=\"dataframe\">\n",
       "  <thead>\n",
       "    <tr>\n",
       "      <th></th>\n",
       "      <th colspan=\"8\" halign=\"left\">lender_credits</th>\n",
       "    </tr>\n",
       "    <tr>\n",
       "      <th></th>\n",
       "      <th>count</th>\n",
       "      <th>mean</th>\n",
       "      <th>std</th>\n",
       "      <th>min</th>\n",
       "      <th>25%</th>\n",
       "      <th>50%</th>\n",
       "      <th>75%</th>\n",
       "      <th>max</th>\n",
       "    </tr>\n",
       "    <tr>\n",
       "      <th>state_code</th>\n",
       "      <th></th>\n",
       "      <th></th>\n",
       "      <th></th>\n",
       "      <th></th>\n",
       "      <th></th>\n",
       "      <th></th>\n",
       "      <th></th>\n",
       "      <th></th>\n",
       "    </tr>\n",
       "  </thead>\n",
       "  <tbody>\n",
       "    <tr>\n",
       "      <th>CA</th>\n",
       "      <td>893066.0</td>\n",
       "      <td>1925.175219</td>\n",
       "      <td>2456.708811</td>\n",
       "      <td>0.01</td>\n",
       "      <td>296.690</td>\n",
       "      <td>1245.00</td>\n",
       "      <td>2946.000</td>\n",
       "      <td>678000.00</td>\n",
       "    </tr>\n",
       "    <tr>\n",
       "      <th>IL</th>\n",
       "      <td>239971.0</td>\n",
       "      <td>1208.510106</td>\n",
       "      <td>2740.017994</td>\n",
       "      <td>0.01</td>\n",
       "      <td>176.145</td>\n",
       "      <td>619.56</td>\n",
       "      <td>1751.535</td>\n",
       "      <td>464258.09</td>\n",
       "    </tr>\n",
       "  </tbody>\n",
       "</table>\n",
       "</div>"
      ],
      "text/plain": [
       "           lender_credits                                                    \\\n",
       "                    count         mean          std   min      25%      50%   \n",
       "state_code                                                                    \n",
       "CA               893066.0  1925.175219  2456.708811  0.01  296.690  1245.00   \n",
       "IL               239971.0  1208.510106  2740.017994  0.01  176.145   619.56   \n",
       "\n",
       "                                 \n",
       "                 75%        max  \n",
       "state_code                       \n",
       "CA          2946.000  678000.00  \n",
       "IL          1751.535  464258.09  "
      ]
     },
     "execution_count": 121,
     "metadata": {},
     "output_type": "execute_result"
    }
   ],
   "source": [
    "tmp=aprv[aprv['lender_credits']!='Exempt']\n",
    "tmp['lender_credits'] = tmp['lender_credits'].astype(float)\n",
    "tmp.groupby('state_code')[['lender_credits']].describe()"
   ]
  },
  {
   "cell_type": "code",
   "execution_count": 122,
   "metadata": {},
   "outputs": [
    {
     "data": {
      "text/plain": [
       "<AxesSubplot:xlabel='state_code', ylabel='lender_credits'>"
      ]
     },
     "execution_count": 122,
     "metadata": {},
     "output_type": "execute_result"
    },
    {
     "data": {
      "image/png": "[encoded data removed]",
      "text/plain": [
       "<Figure size 432x288 with 1 Axes>"
      ]
     },
     "metadata": {
      "needs_background": "light"
     },
     "output_type": "display_data"
    }
   ],
   "source": [
    "sns.boxplot(data=tmp, x=\"state_code\", y=\"lender_credits\", showfliers = False, palette=\"Dark2\")"
   ]
  },
  {
   "cell_type": "markdown",
   "metadata": {},
   "source": [
    "#### Income"
   ]
  },
  {
   "cell_type": "code",
   "execution_count": 295,
   "metadata": {},
   "outputs": [
    {
     "data": {
      "text/html": [
       "<div>\n",
       "<style scoped>\n",
       "    .dataframe tbody tr th:only-of-type {\n",
       "        vertical-align: middle;\n",
       "    }\n",
       "\n",
       "    .dataframe tbody tr th {\n",
       "        vertical-align: top;\n",
       "    }\n",
       "\n",
       "    .dataframe thead tr th {\n",
       "        text-align: left;\n",
       "    }\n",
       "\n",
       "    .dataframe thead tr:last-of-type th {\n",
       "        text-align: right;\n",
       "    }\n",
       "</style>\n",
       "<table border=\"1\" class=\"dataframe\">\n",
       "  <thead>\n",
       "    <tr>\n",
       "      <th></th>\n",
       "      <th colspan=\"8\" halign=\"left\">income</th>\n",
       "    </tr>\n",
       "    <tr>\n",
       "      <th></th>\n",
       "      <th>count</th>\n",
       "      <th>mean</th>\n",
       "      <th>std</th>\n",
       "      <th>min</th>\n",
       "      <th>25%</th>\n",
       "      <th>50%</th>\n",
       "      <th>75%</th>\n",
       "      <th>max</th>\n",
       "    </tr>\n",
       "    <tr>\n",
       "      <th>state_code</th>\n",
       "      <th></th>\n",
       "      <th></th>\n",
       "      <th></th>\n",
       "      <th></th>\n",
       "      <th></th>\n",
       "      <th></th>\n",
       "      <th></th>\n",
       "      <th></th>\n",
       "    </tr>\n",
       "  </thead>\n",
       "  <tbody>\n",
       "    <tr>\n",
       "      <th>CA</th>\n",
       "      <td>2199025.0</td>\n",
       "      <td>753.081132</td>\n",
       "      <td>10328.589431</td>\n",
       "      <td>-10063.0</td>\n",
       "      <td>84.0</td>\n",
       "      <td>125.0</td>\n",
       "      <td>188.0</td>\n",
       "      <td>3861652.0</td>\n",
       "    </tr>\n",
       "    <tr>\n",
       "      <th>IL</th>\n",
       "      <td>567791.0</td>\n",
       "      <td>254.298603</td>\n",
       "      <td>5166.685762</td>\n",
       "      <td>-25785.0</td>\n",
       "      <td>66.0</td>\n",
       "      <td>101.0</td>\n",
       "      <td>154.0</td>\n",
       "      <td>1982668.0</td>\n",
       "    </tr>\n",
       "  </tbody>\n",
       "</table>\n",
       "</div>"
      ],
      "text/plain": [
       "               income                                                         \\\n",
       "                count        mean           std      min   25%    50%    75%   \n",
       "state_code                                                                     \n",
       "CA          2199025.0  753.081132  10328.589431 -10063.0  84.0  125.0  188.0   \n",
       "IL           567791.0  254.298603   5166.685762 -25785.0  66.0  101.0  154.0   \n",
       "\n",
       "                       \n",
       "                  max  \n",
       "state_code             \n",
       "CA          3861652.0  \n",
       "IL          1982668.0  "
      ]
     },
     "execution_count": 295,
     "metadata": {},
     "output_type": "execute_result"
    }
   ],
   "source": [
    "aprv.groupby('state_code')[['income']].describe()"
   ]
  },
  {
   "cell_type": "code",
   "execution_count": 298,
   "metadata": {},
   "outputs": [
    {
     "data": {
      "text/plain": [
       "<AxesSubplot:xlabel='state_code', ylabel='income'>"
      ]
     },
     "execution_count": 298,
     "metadata": {},
     "output_type": "execute_result"
    },
    {
     "data": {
      "image/png": "[encoded data removed]",
      "text/plain": [
       "<Figure size 432x288 with 1 Axes>"
      ]
     },
     "metadata": {
      "needs_background": "light"
     },
     "output_type": "display_data"
    }
   ],
   "source": [
    "sns.boxplot(data=aprv, x=\"state_code\", y=\"income\", palette=\"spring\")"
   ]
  },
  {
   "cell_type": "markdown",
   "metadata": {},
   "source": [
    "#### Why did they come?"
   ]
  },
  {
   "cell_type": "code",
   "execution_count": 124,
   "metadata": {},
   "outputs": [],
   "source": [
    "purpDic = {1: \"Home purchase\", 2: \"Home improvement\", 31: \"Refinancing\", 32: \"Cash-out refinancing\", 4: \"Other purpose\", 5: \"Not applicable\"}\n",
    "aprv = aprv.replace({\"loan_purpose\": purpDic})"
   ]
  },
  {
   "cell_type": "code",
   "execution_count": 125,
   "metadata": {},
   "outputs": [
    {
     "data": {
      "image/png": "[encoded data removed]",
      "text/plain": [
       "<Figure size 720x720 with 1 Axes>"
      ]
     },
     "metadata": {
      "needs_background": "light"
     },
     "output_type": "display_data"
    }
   ],
   "source": [
    "# Loan_purpose - CA\n",
    "d = aprv[aprv['state_code']=='CA']['loan_purpose'].value_counts()\n",
    "wc = WordCloud(width=800, height=400, max_words=200, background_color='white').generate_from_frequencies(d)\n",
    "plt.figure(figsize=(10, 10))\n",
    "plt.imshow(wc, interpolation='bilinear')\n",
    "plt.axis('off')\n",
    "plt.show()"
   ]
  },
  {
   "cell_type": "code",
   "execution_count": 126,
   "metadata": {},
   "outputs": [
    {
     "data": {
      "image/png": "[encoded data removed]",
      "text/plain": [
       "<Figure size 720x720 with 1 Axes>"
      ]
     },
     "metadata": {
      "needs_background": "light"
     },
     "output_type": "display_data"
    }
   ],
   "source": [
    "# Loan_purpose - IL\n",
    "d = aprv[aprv['state_code']=='IL']['loan_purpose'].value_counts()\n",
    "wc = WordCloud(width=800, height=400, max_words=200, background_color='white').generate_from_frequencies(d)\n",
    "plt.figure(figsize=(10, 10))\n",
    "plt.imshow(wc, interpolation='bilinear')\n",
    "plt.axis('off')\n",
    "plt.show()"
   ]
  },
  {
   "cell_type": "markdown",
   "metadata": {},
   "source": [
    "#### What do they want"
   ]
  },
  {
   "cell_type": "code",
   "execution_count": 147,
   "metadata": {},
   "outputs": [
    {
     "data": {
      "image/png": "[encoded data removed]",
      "text/plain": [
       "<Figure size 720x720 with 1 Axes>"
      ]
     },
     "metadata": {
      "needs_background": "light"
     },
     "output_type": "display_data"
    }
   ],
   "source": [
    "# Loan_product - CA\n",
    "typeDic = {1: \"Conventional\", 2: \"Federal Housing Administration insured (FHA)\", 3:\"Veterans Affairs guaranteed (VA)\", 4: \"USDA Rural Housing Service or Farm Service Agency guaranteed (RHS or FSA)\"}\n",
    "aprv = aprv.replace({\"loan_type\": typeDic})\n",
    "\n",
    "\n",
    "d = aprv[aprv['state_code']=='CA']['loan_type'].value_counts()\n",
    "wc = WordCloud(width=800, height=400, max_words=200, background_color='white').generate_from_frequencies(d)\n",
    "plt.figure(figsize=(10, 10))\n",
    "plt.imshow(wc, interpolation='bilinear')\n",
    "plt.axis('off')\n",
    "plt.show()\n"
   ]
  },
  {
   "cell_type": "code",
   "execution_count": 145,
   "metadata": {},
   "outputs": [
    {
     "data": {
      "image/png": "[encoded data removed]",
      "text/plain": [
       "<Figure size 720x720 with 1 Axes>"
      ]
     },
     "metadata": {
      "needs_background": "light"
     },
     "output_type": "display_data"
    }
   ],
   "source": [
    "# Loan_product - IL\n",
    "d = aprv[aprv['state_code']=='IL']['loan_type'].value_counts()\n",
    "wc = WordCloud(width=800, height=400, max_words=200, background_color='white').generate_from_frequencies(d)\n",
    "plt.figure(figsize=(10, 10))\n",
    "plt.imshow(wc, interpolation='bilinear')\n",
    "plt.axis('off')\n",
    "plt.show()"
   ]
  },
  {
   "cell_type": "markdown",
   "metadata": {},
   "source": [
    "# Binary prediction modeling"
   ]
  },
  {
   "cell_type": "markdown",
   "metadata": {},
   "source": [
    "## Data Wrangling"
   ]
  },
  {
   "cell_type": "markdown",
   "metadata": {},
   "source": [
    "Missing values check"
   ]
  },
  {
   "cell_type": "code",
   "execution_count": 300,
   "metadata": {},
   "outputs": [
    {
     "data": {
      "text/plain": [
       "<AxesSubplot:xlabel='index'>"
      ]
     },
     "execution_count": 300,
     "metadata": {},
     "output_type": "execute_result"
    },
    {
     "data": {
      "image/png": "[encoded data removed]",
      "text/plain": [
       "<Figure size 1152x360 with 1 Axes>"
      ]
     },
     "metadata": {
      "needs_background": "light"
     },
     "output_type": "display_data"
    }
   ],
   "source": [
    "nas = org.isna().sum()\n",
    "nas = nas[nas.values !=0]/org.shape[0]\n",
    "nas.reset_index(name=\"n\").plot.bar(x='index', y='n', rot=45, figsize=(16, 5))"
   ]
  },
  {
   "cell_type": "code",
   "execution_count": 299,
   "metadata": {},
   "outputs": [
    {
     "data": {
      "text/plain": [
       "(873719, 99)"
      ]
     },
     "execution_count": 299,
     "metadata": {},
     "output_type": "execute_result"
    }
   ],
   "source": [
    "org[org['state_code']=='IL'].shape"
   ]
  },
  {
   "cell_type": "code",
   "execution_count": 303,
   "metadata": {},
   "outputs": [
    {
     "data": {
      "text/plain": [
       "(47,)"
      ]
     },
     "execution_count": 303,
     "metadata": {},
     "output_type": "execute_result"
    }
   ],
   "source": [
    "nas.shape"
   ]
  },
  {
   "cell_type": "code",
   "execution_count": 302,
   "metadata": {},
   "outputs": [
    {
     "data": {
      "text/plain": [
       "<bound method Series.keys of county_code                     0.003914\n",
       "census_tract                    0.004461\n",
       "conforming_loan_limit           0.003459\n",
       "loan_to_value_ratio             0.339127\n",
       "interest_rate                   0.290643\n",
       "rate_spread                     0.431813\n",
       "total_loan_costs                0.382997\n",
       "total_points_and_fees           0.981957\n",
       "origination_charges             0.377753\n",
       "discount_points                 0.783175\n",
       "lender_credits                  0.723468\n",
       "loan_term                       0.009278\n",
       "prepayment_penalty_term         0.969908\n",
       "intro_rate_period               0.896701\n",
       "property_value                  0.224170\n",
       "multifamily_affordable_units    0.984038\n",
       "income                          0.134106\n",
       "debt_to_income_ratio            0.358068\n",
       "applicant_ethnicity-1           0.000331\n",
       "applicant_ethnicity-2           0.929945\n",
       "applicant_ethnicity-3           0.998840\n",
       "applicant_ethnicity-4           0.999964\n",
       "applicant_ethnicity-5           0.999991\n",
       "co-applicant_ethnicity-1        0.000118\n",
       "co-applicant_ethnicity-2        0.968814\n",
       "co-applicant_ethnicity-3        0.999540\n",
       "co-applicant_ethnicity-4        0.999988\n",
       "co-applicant_ethnicity-5        0.999996\n",
       "applicant_race-1                0.000126\n",
       "applicant_race-2                0.911828\n",
       "applicant_race-3                0.995151\n",
       "applicant_race-4                0.999564\n",
       "applicant_race-5                0.999878\n",
       "co-applicant_race-1             0.000058\n",
       "co-applicant_race-2             0.960651\n",
       "co-applicant_race-3             0.997869\n",
       "co-applicant_race-4             0.999823\n",
       "co-applicant_race-5             0.999952\n",
       "applicant_age_above_62          0.070731\n",
       "co-applicant_age_above_62       0.554591\n",
       "aus-2                           0.902119\n",
       "aus-3                           0.981746\n",
       "aus-4                           0.994334\n",
       "aus-5                           0.995365\n",
       "denial_reason-2                 0.984425\n",
       "denial_reason-3                 0.997616\n",
       "denial_reason-4                 0.999769\n",
       "dtype: float64>"
      ]
     },
     "execution_count": 302,
     "metadata": {},
     "output_type": "execute_result"
    }
   ],
   "source": [
    "nas.keys"
   ]
  },
  {
   "cell_type": "markdown",
   "metadata": {},
   "source": [
    "Step 1: Delete at and after loan indicators that do not affect modeling"
   ]
  },
  {
   "cell_type": "code",
   "execution_count": 5,
   "metadata": {},
   "outputs": [
    {
     "data": {
      "text/plain": [
       "(4310938, 93)"
      ]
     },
     "execution_count": 5,
     "metadata": {},
     "output_type": "execute_result"
    }
   ],
   "source": [
    "df = org.drop(['total_loan_costs', 'total_points_and_fees', 'discount_points', 'prepayment_penalty_term',\\\n",
    "                    'intro_rate_period', 'lender_credits'], axis=1)\n",
    "df.shape                    "
   ]
  },
  {
   "cell_type": "markdown",
   "metadata": {},
   "source": [
    "Step 2: Delete Additional Information / Already Integrated"
   ]
  },
  {
   "cell_type": "code",
   "execution_count": 6,
   "metadata": {},
   "outputs": [
    {
     "data": {
      "text/plain": [
       "(4310938, 63)"
      ]
     },
     "execution_count": 6,
     "metadata": {},
     "output_type": "execute_result"
    }
   ],
   "source": [
    "df = df.drop(['applicant_ethnicity-1', 'applicant_ethnicity-2', 'applicant_ethnicity-3', 'applicant_ethnicity-4',\\\n",
    "                'applicant_ethnicity-5', 'co-applicant_ethnicity-1', 'co-applicant_ethnicity-2', 'co-applicant_ethnicity-3',\\\n",
    "                'co-applicant_ethnicity-4', 'co-applicant_ethnicity-5', 'denial_reason-2', 'denial_reason-3', 'denial_reason-4',\\\n",
    "                 'aus-2', 'aus-3', 'aus-4', 'aus-5', 'applicant_race-1', 'applicant_race-2', 'applicant_race-3', 'applicant_race-4',\\\n",
    "                'applicant_race-5', 'co-applicant_race-1', 'co-applicant_race-2','co-applicant_race-3', 'co-applicant_race-4',\\\n",
    "                 'co-applicant_race-5', 'multifamily_affordable_units', 'rate_spread', 'origination_charges'], axis=1)\n",
    "df.shape"
   ]
  },
  {
   "cell_type": "markdown",
   "metadata": {},
   "source": [
    "Step 3: Delete variables do not have an impact on loan decision"
   ]
  },
  {
   "cell_type": "code",
   "execution_count": 7,
   "metadata": {},
   "outputs": [
    {
     "data": {
      "text/plain": [
       "(4310938, 59)"
      ]
     },
     "execution_count": 7,
     "metadata": {},
     "output_type": "execute_result"
    }
   ],
   "source": [
    "df = df.drop(['county_code', 'census_tract', 'applicant_age_above_62', 'co-applicant_age_above_62'], axis=1)\n",
    "df.shape"
   ]
  },
  {
   "cell_type": "markdown",
   "metadata": {},
   "source": [
    "Step 4: Imputation for variables of interest"
   ]
  },
  {
   "cell_type": "code",
   "execution_count": 8,
   "metadata": {},
   "outputs": [
    {
     "data": {
      "text/plain": [
       "conforming_loan_limit    0.003459\n",
       "loan_to_value_ratio      0.339127\n",
       "interest_rate            0.290643\n",
       "loan_term                0.009278\n",
       "property_value           0.224170\n",
       "income                   0.134106\n",
       "debt_to_income_ratio     0.358068\n",
       "dtype: float64"
      ]
     },
     "execution_count": 8,
     "metadata": {},
     "output_type": "execute_result"
    }
   ],
   "source": [
    "nas = df.isna().sum()\n",
    "nas[nas.values!=0]/df.shape[0]"
   ]
  },
  {
   "cell_type": "code",
   "execution_count": 9,
   "metadata": {},
   "outputs": [],
   "source": [
    "# Continuous variables -- median\n",
    "df['loan_to_value_ratio'].fillna(df[df['loan_to_value_ratio']!='Exempt']['loan_to_value_ratio'].median(), inplace=True)\n",
    "df['interest_rate'].fillna(df[df['interest_rate']!='Exempt']['interest_rate'].median(), inplace=True)\n",
    "df['loan_term'].fillna(df[df['loan_term']!='Exempt']['loan_term'].median(), inplace=True)\n",
    "df['property_value'].fillna(df[df['property_value']!='Exempt']['property_value'].median(), inplace=True)\n",
    "df['income'].fillna(df[df['income']!='Exempt']['income'].median(), inplace=True)"
   ]
  },
  {
   "cell_type": "code",
   "execution_count": 10,
   "metadata": {},
   "outputs": [],
   "source": [
    "# categorical variables -- mode\n",
    "df['conforming_loan_limit'].fillna(df[df['conforming_loan_limit']!='Exempt']['conforming_loan_limit'].mode()[0], inplace=True)\n",
    "df['debt_to_income_ratio'].fillna(df[df['debt_to_income_ratio']!='Exempt']['debt_to_income_ratio'].mode()[0], inplace=True)"
   ]
  },
  {
   "cell_type": "code",
   "execution_count": 11,
   "metadata": {},
   "outputs": [
    {
     "data": {
      "text/plain": [
       "Series([], dtype: float64)"
      ]
     },
     "execution_count": 11,
     "metadata": {},
     "output_type": "execute_result"
    }
   ],
   "source": [
    "# No more NAs\n",
    "t=df.isna().sum()\n",
    "t[t.values!=0]/df.shape[0]"
   ]
  },
  {
   "cell_type": "markdown",
   "metadata": {},
   "source": [
    "### Feature Engineering"
   ]
  },
  {
   "cell_type": "code",
   "execution_count": 136,
   "metadata": {},
   "outputs": [
    {
     "data": {
      "text/plain": [
       "Index(['activity_year', 'lei', 'derived_msa-md', 'state_code',\n",
       "       'conforming_loan_limit', 'derived_loan_product_type',\n",
       "       'derived_dwelling_category', 'derived_ethnicity', 'derived_race',\n",
       "       'derived_sex', 'action_taken', 'purchaser_type', 'preapproval',\n",
       "       'loan_type', 'loan_purpose', 'lien_status', 'reverse_mortgage',\n",
       "       'open-end_line_of_credit', 'business_or_commercial_purpose',\n",
       "       'loan_amount', 'loan_to_value_ratio', 'interest_rate', 'hoepa_status',\n",
       "       'loan_term', 'negative_amortization', 'interest_only_payment',\n",
       "       'balloon_payment', 'other_nonamortizing_features', 'property_value',\n",
       "       'construction_method', 'occupancy_type',\n",
       "       'manufactured_home_secured_property_type',\n",
       "       'manufactured_home_land_property_interest', 'total_units', 'income',\n",
       "       'debt_to_income_ratio', 'applicant_credit_score_type',\n",
       "       'co-applicant_credit_score_type', 'applicant_ethnicity_observed',\n",
       "       'co-applicant_ethnicity_observed', 'applicant_race_observed',\n",
       "       'co-applicant_race_observed', 'applicant_sex', 'co-applicant_sex',\n",
       "       'applicant_sex_observed', 'co-applicant_sex_observed', 'applicant_age',\n",
       "       'co-applicant_age', 'submission_of_application',\n",
       "       'initially_payable_to_institution', 'aus-1', 'denial_reason-1',\n",
       "       'tract_population', 'tract_minority_population_percent',\n",
       "       'ffiec_msa_md_median_family_income', 'tract_to_msa_income_percentage',\n",
       "       'tract_owner_occupied_units', 'tract_one_to_four_family_homes',\n",
       "       'tract_median_age_of_housing_units'],\n",
       "      dtype='object')"
      ]
     },
     "execution_count": 136,
     "metadata": {},
     "output_type": "execute_result"
    }
   ],
   "source": [
    "df.columns"
   ]
  },
  {
   "cell_type": "markdown",
   "metadata": {},
   "source": [
    "#### Based on rule-of-thumb / industrial expertise, select variables from several aspects"
   ]
  },
  {
   "cell_type": "markdown",
   "metadata": {},
   "source": [
    "Step 0: Illinois; Action_taken 0/1"
   ]
  },
  {
   "cell_type": "code",
   "execution_count": 12,
   "metadata": {},
   "outputs": [],
   "source": [
    "base = df[df['action_taken'].isin(['Approve', 'Reject'])]"
   ]
  },
  {
   "cell_type": "code",
   "execution_count": 13,
   "metadata": {},
   "outputs": [],
   "source": [
    "base = base[base['state_code'] == 'IL']"
   ]
  },
  {
   "cell_type": "code",
   "execution_count": 14,
   "metadata": {},
   "outputs": [
    {
     "data": {
      "text/plain": [
       "(759936, 59)"
      ]
     },
     "execution_count": 14,
     "metadata": {},
     "output_type": "execute_result"
    }
   ],
   "source": [
    "base.shape"
   ]
  },
  {
   "cell_type": "code",
   "execution_count": 15,
   "metadata": {},
   "outputs": [
    {
     "data": {
      "text/plain": [
       "array([   1,    2,    3,    9, 1111,    7,    6,    8,    4,    5])"
      ]
     },
     "execution_count": 15,
     "metadata": {},
     "output_type": "execute_result"
    }
   ],
   "source": [
    "base['applicant_credit_score_type'].unique()"
   ]
  },
  {
   "cell_type": "markdown",
   "metadata": {},
   "source": [
    "Step 1: Key factors affecting loan decision\n",
    "Step 2: Applicants/loan/property/transaction"
   ]
  },
  {
   "cell_type": "code",
   "execution_count": 16,
   "metadata": {},
   "outputs": [],
   "source": [
    "m1 = base[['loan_type','action_taken', 'debt_to_income_ratio', 'loan_to_value_ratio', 'income', 'hoepa_status', 'loan_amount']]"
   ]
  },
  {
   "cell_type": "code",
   "execution_count": 17,
   "metadata": {},
   "outputs": [
    {
     "data": {
      "text/plain": [
       "(614620, 7)"
      ]
     },
     "execution_count": 17,
     "metadata": {},
     "output_type": "execute_result"
    }
   ],
   "source": [
    "m1 = m1[m1['loan_type'] == 1]\n",
    "m1.shape"
   ]
  },
  {
   "cell_type": "code",
   "execution_count": 18,
   "metadata": {},
   "outputs": [
    {
     "data": {
      "text/plain": [
       "0.06137288080439947"
      ]
     },
     "execution_count": 18,
     "metadata": {},
     "output_type": "execute_result"
    }
   ],
   "source": [
    "len(m1[m1['loan_to_value_ratio']=='Exempt'])/614620"
   ]
  },
  {
   "cell_type": "code",
   "execution_count": 19,
   "metadata": {},
   "outputs": [],
   "source": [
    "tmp=m1[m1['loan_to_value_ratio']!='Exempt']"
   ]
  },
  {
   "cell_type": "code",
   "execution_count": 20,
   "metadata": {},
   "outputs": [],
   "source": [
    "tmp=tmp[tmp['debt_to_income_ratio']!='Exempt']"
   ]
  },
  {
   "cell_type": "code",
   "execution_count": 21,
   "metadata": {},
   "outputs": [
    {
     "data": {
      "text/plain": [
       "(576869, 7)"
      ]
     },
     "execution_count": 21,
     "metadata": {},
     "output_type": "execute_result"
    }
   ],
   "source": [
    "tmp.shape"
   ]
  },
  {
   "cell_type": "markdown",
   "metadata": {},
   "source": [
    "Data type transformation"
   ]
  },
  {
   "cell_type": "code",
   "execution_count": 22,
   "metadata": {},
   "outputs": [
    {
     "data": {
      "text/plain": [
       "Index(['loan_type', 'action_taken', 'debt_to_income_ratio',\n",
       "       'loan_to_value_ratio', 'income', 'hoepa_status', 'loan_amount'],\n",
       "      dtype='object')"
      ]
     },
     "execution_count": 22,
     "metadata": {},
     "output_type": "execute_result"
    }
   ],
   "source": [
    "tmp.columns"
   ]
  },
  {
   "cell_type": "code",
   "execution_count": 23,
   "metadata": {},
   "outputs": [],
   "source": [
    "tmp[['action_taken','hoepa_status']] = tmp[['action_taken','hoepa_status']].apply(lambda x: pd.factorize(x)[0])\n",
    "tmp['loan_to_value_ratio']=tmp['loan_to_value_ratio'].astype(float)"
   ]
  },
  {
   "cell_type": "markdown",
   "metadata": {},
   "source": [
    "#### Model establishment"
   ]
  },
  {
   "cell_type": "markdown",
   "metadata": {},
   "source": []
  },
  {
   "cell_type": "code",
   "execution_count": 24,
   "metadata": {},
   "outputs": [],
   "source": [
    "def ordy(table, column):\n",
    "    keys = sorted(table[column].unique())\n",
    "    values = list(range(len(keys)))\n",
    "    res = dict(map(lambda i,j : (i,j) , keys,values))\n",
    "    table[column] = table[column].replace(res)"
   ]
  },
  {
   "cell_type": "code",
   "execution_count": 25,
   "metadata": {},
   "outputs": [],
   "source": [
    "ordy(tmp, 'debt_to_income_ratio')"
   ]
  },
  {
   "cell_type": "code",
   "execution_count": 26,
   "metadata": {},
   "outputs": [
    {
     "data": {
      "text/html": [
       "<div>\n",
       "<style scoped>\n",
       "    .dataframe tbody tr th:only-of-type {\n",
       "        vertical-align: middle;\n",
       "    }\n",
       "\n",
       "    .dataframe tbody tr th {\n",
       "        vertical-align: top;\n",
       "    }\n",
       "\n",
       "    .dataframe thead th {\n",
       "        text-align: right;\n",
       "    }\n",
       "</style>\n",
       "<table border=\"1\" class=\"dataframe\">\n",
       "  <thead>\n",
       "    <tr style=\"text-align: right;\">\n",
       "      <th></th>\n",
       "      <th>loan_type</th>\n",
       "      <th>action_taken</th>\n",
       "      <th>debt_to_income_ratio</th>\n",
       "      <th>loan_to_value_ratio</th>\n",
       "      <th>income</th>\n",
       "      <th>hoepa_status</th>\n",
       "      <th>loan_amount</th>\n",
       "    </tr>\n",
       "  </thead>\n",
       "  <tbody>\n",
       "    <tr>\n",
       "      <th>0</th>\n",
       "      <td>1</td>\n",
       "      <td>Approve</td>\n",
       "      <td>45</td>\n",
       "      <td>54.215</td>\n",
       "      <td>173.0</td>\n",
       "      <td>2</td>\n",
       "      <td>175000.0</td>\n",
       "    </tr>\n",
       "    <tr>\n",
       "      <th>4</th>\n",
       "      <td>1</td>\n",
       "      <td>Reject</td>\n",
       "      <td>20%-&lt;30%</td>\n",
       "      <td>68.653</td>\n",
       "      <td>124.0</td>\n",
       "      <td>3</td>\n",
       "      <td>135000.0</td>\n",
       "    </tr>\n",
       "    <tr>\n",
       "      <th>5</th>\n",
       "      <td>1</td>\n",
       "      <td>Approve</td>\n",
       "      <td>20%-&lt;30%</td>\n",
       "      <td>55.227</td>\n",
       "      <td>315.0</td>\n",
       "      <td>2</td>\n",
       "      <td>345000.0</td>\n",
       "    </tr>\n",
       "    <tr>\n",
       "      <th>14</th>\n",
       "      <td>1</td>\n",
       "      <td>Reject</td>\n",
       "      <td>&gt;60%</td>\n",
       "      <td>63.043</td>\n",
       "      <td>7.0</td>\n",
       "      <td>3</td>\n",
       "      <td>135000.0</td>\n",
       "    </tr>\n",
       "    <tr>\n",
       "      <th>23</th>\n",
       "      <td>1</td>\n",
       "      <td>Approve</td>\n",
       "      <td>&lt;20%</td>\n",
       "      <td>70.412</td>\n",
       "      <td>171.0</td>\n",
       "      <td>2</td>\n",
       "      <td>185000.0</td>\n",
       "    </tr>\n",
       "    <tr>\n",
       "      <th>...</th>\n",
       "      <td>...</td>\n",
       "      <td>...</td>\n",
       "      <td>...</td>\n",
       "      <td>...</td>\n",
       "      <td>...</td>\n",
       "      <td>...</td>\n",
       "      <td>...</td>\n",
       "    </tr>\n",
       "    <tr>\n",
       "      <th>4310929</th>\n",
       "      <td>1</td>\n",
       "      <td>Approve</td>\n",
       "      <td>30%-&lt;36%</td>\n",
       "      <td>95.0</td>\n",
       "      <td>27.0</td>\n",
       "      <td>2</td>\n",
       "      <td>75000.0</td>\n",
       "    </tr>\n",
       "    <tr>\n",
       "      <th>4310930</th>\n",
       "      <td>1</td>\n",
       "      <td>Approve</td>\n",
       "      <td>20%-&lt;30%</td>\n",
       "      <td>90.0</td>\n",
       "      <td>126.0</td>\n",
       "      <td>2</td>\n",
       "      <td>385000.0</td>\n",
       "    </tr>\n",
       "    <tr>\n",
       "      <th>4310933</th>\n",
       "      <td>1</td>\n",
       "      <td>Approve</td>\n",
       "      <td>30%-&lt;36%</td>\n",
       "      <td>76.923</td>\n",
       "      <td>173.0</td>\n",
       "      <td>2</td>\n",
       "      <td>205000.0</td>\n",
       "    </tr>\n",
       "    <tr>\n",
       "      <th>4310936</th>\n",
       "      <td>1</td>\n",
       "      <td>Approve</td>\n",
       "      <td>30%-&lt;36%</td>\n",
       "      <td>75.0</td>\n",
       "      <td>94.0</td>\n",
       "      <td>3</td>\n",
       "      <td>95000.0</td>\n",
       "    </tr>\n",
       "    <tr>\n",
       "      <th>4310937</th>\n",
       "      <td>1</td>\n",
       "      <td>Approve</td>\n",
       "      <td>30%-&lt;36%</td>\n",
       "      <td>80.0</td>\n",
       "      <td>32.0</td>\n",
       "      <td>2</td>\n",
       "      <td>45000.0</td>\n",
       "    </tr>\n",
       "  </tbody>\n",
       "</table>\n",
       "<p>614620 rows × 7 columns</p>\n",
       "</div>"
      ],
      "text/plain": [
       "         loan_type action_taken debt_to_income_ratio loan_to_value_ratio  \\\n",
       "0                1      Approve                   45              54.215   \n",
       "4                1       Reject             20%-<30%              68.653   \n",
       "5                1      Approve             20%-<30%              55.227   \n",
       "14               1       Reject                 >60%              63.043   \n",
       "23               1      Approve                 <20%              70.412   \n",
       "...            ...          ...                  ...                 ...   \n",
       "4310929          1      Approve             30%-<36%                95.0   \n",
       "4310930          1      Approve             20%-<30%                90.0   \n",
       "4310933          1      Approve             30%-<36%              76.923   \n",
       "4310936          1      Approve             30%-<36%                75.0   \n",
       "4310937          1      Approve             30%-<36%                80.0   \n",
       "\n",
       "         income  hoepa_status  loan_amount  \n",
       "0         173.0             2     175000.0  \n",
       "4         124.0             3     135000.0  \n",
       "5         315.0             2     345000.0  \n",
       "14          7.0             3     135000.0  \n",
       "23        171.0             2     185000.0  \n",
       "...         ...           ...          ...  \n",
       "4310929    27.0             2      75000.0  \n",
       "4310930   126.0             2     385000.0  \n",
       "4310933   173.0             2     205000.0  \n",
       "4310936    94.0             3      95000.0  \n",
       "4310937    32.0             2      45000.0  \n",
       "\n",
       "[614620 rows x 7 columns]"
      ]
     },
     "execution_count": 26,
     "metadata": {},
     "output_type": "execute_result"
    }
   ],
   "source": [
    "m1"
   ]
  },
  {
   "cell_type": "code",
   "execution_count": 27,
   "metadata": {},
   "outputs": [
    {
     "data": {
      "text/html": [
       "<div>\n",
       "<style scoped>\n",
       "    .dataframe tbody tr th:only-of-type {\n",
       "        vertical-align: middle;\n",
       "    }\n",
       "\n",
       "    .dataframe tbody tr th {\n",
       "        vertical-align: top;\n",
       "    }\n",
       "\n",
       "    .dataframe thead th {\n",
       "        text-align: right;\n",
       "    }\n",
       "</style>\n",
       "<table border=\"1\" class=\"dataframe\">\n",
       "  <thead>\n",
       "    <tr style=\"text-align: right;\">\n",
       "      <th></th>\n",
       "      <th>loan_type</th>\n",
       "      <th>action_taken</th>\n",
       "      <th>debt_to_income_ratio</th>\n",
       "      <th>loan_to_value_ratio</th>\n",
       "      <th>income</th>\n",
       "      <th>hoepa_status</th>\n",
       "      <th>loan_amount</th>\n",
       "    </tr>\n",
       "  </thead>\n",
       "  <tbody>\n",
       "    <tr>\n",
       "      <th>0</th>\n",
       "      <td>1</td>\n",
       "      <td>0</td>\n",
       "      <td>11</td>\n",
       "      <td>54.215</td>\n",
       "      <td>173.0</td>\n",
       "      <td>0</td>\n",
       "      <td>175000.0</td>\n",
       "    </tr>\n",
       "    <tr>\n",
       "      <th>4</th>\n",
       "      <td>1</td>\n",
       "      <td>1</td>\n",
       "      <td>0</td>\n",
       "      <td>68.653</td>\n",
       "      <td>124.0</td>\n",
       "      <td>1</td>\n",
       "      <td>135000.0</td>\n",
       "    </tr>\n",
       "    <tr>\n",
       "      <th>5</th>\n",
       "      <td>1</td>\n",
       "      <td>0</td>\n",
       "      <td>0</td>\n",
       "      <td>55.227</td>\n",
       "      <td>315.0</td>\n",
       "      <td>0</td>\n",
       "      <td>345000.0</td>\n",
       "    </tr>\n",
       "    <tr>\n",
       "      <th>14</th>\n",
       "      <td>1</td>\n",
       "      <td>1</td>\n",
       "      <td>18</td>\n",
       "      <td>63.043</td>\n",
       "      <td>7.0</td>\n",
       "      <td>1</td>\n",
       "      <td>135000.0</td>\n",
       "    </tr>\n",
       "    <tr>\n",
       "      <th>23</th>\n",
       "      <td>1</td>\n",
       "      <td>0</td>\n",
       "      <td>17</td>\n",
       "      <td>70.412</td>\n",
       "      <td>171.0</td>\n",
       "      <td>0</td>\n",
       "      <td>185000.0</td>\n",
       "    </tr>\n",
       "    <tr>\n",
       "      <th>...</th>\n",
       "      <td>...</td>\n",
       "      <td>...</td>\n",
       "      <td>...</td>\n",
       "      <td>...</td>\n",
       "      <td>...</td>\n",
       "      <td>...</td>\n",
       "      <td>...</td>\n",
       "    </tr>\n",
       "    <tr>\n",
       "      <th>4310929</th>\n",
       "      <td>1</td>\n",
       "      <td>0</td>\n",
       "      <td>1</td>\n",
       "      <td>95.000</td>\n",
       "      <td>27.0</td>\n",
       "      <td>0</td>\n",
       "      <td>75000.0</td>\n",
       "    </tr>\n",
       "    <tr>\n",
       "      <th>4310930</th>\n",
       "      <td>1</td>\n",
       "      <td>0</td>\n",
       "      <td>0</td>\n",
       "      <td>90.000</td>\n",
       "      <td>126.0</td>\n",
       "      <td>0</td>\n",
       "      <td>385000.0</td>\n",
       "    </tr>\n",
       "    <tr>\n",
       "      <th>4310933</th>\n",
       "      <td>1</td>\n",
       "      <td>0</td>\n",
       "      <td>1</td>\n",
       "      <td>76.923</td>\n",
       "      <td>173.0</td>\n",
       "      <td>0</td>\n",
       "      <td>205000.0</td>\n",
       "    </tr>\n",
       "    <tr>\n",
       "      <th>4310936</th>\n",
       "      <td>1</td>\n",
       "      <td>0</td>\n",
       "      <td>1</td>\n",
       "      <td>75.000</td>\n",
       "      <td>94.0</td>\n",
       "      <td>1</td>\n",
       "      <td>95000.0</td>\n",
       "    </tr>\n",
       "    <tr>\n",
       "      <th>4310937</th>\n",
       "      <td>1</td>\n",
       "      <td>0</td>\n",
       "      <td>1</td>\n",
       "      <td>80.000</td>\n",
       "      <td>32.0</td>\n",
       "      <td>0</td>\n",
       "      <td>45000.0</td>\n",
       "    </tr>\n",
       "  </tbody>\n",
       "</table>\n",
       "<p>576869 rows × 7 columns</p>\n",
       "</div>"
      ],
      "text/plain": [
       "         loan_type  action_taken  debt_to_income_ratio  loan_to_value_ratio  \\\n",
       "0                1             0                    11               54.215   \n",
       "4                1             1                     0               68.653   \n",
       "5                1             0                     0               55.227   \n",
       "14               1             1                    18               63.043   \n",
       "23               1             0                    17               70.412   \n",
       "...            ...           ...                   ...                  ...   \n",
       "4310929          1             0                     1               95.000   \n",
       "4310930          1             0                     0               90.000   \n",
       "4310933          1             0                     1               76.923   \n",
       "4310936          1             0                     1               75.000   \n",
       "4310937          1             0                     1               80.000   \n",
       "\n",
       "         income  hoepa_status  loan_amount  \n",
       "0         173.0             0     175000.0  \n",
       "4         124.0             1     135000.0  \n",
       "5         315.0             0     345000.0  \n",
       "14          7.0             1     135000.0  \n",
       "23        171.0             0     185000.0  \n",
       "...         ...           ...          ...  \n",
       "4310929    27.0             0      75000.0  \n",
       "4310930   126.0             0     385000.0  \n",
       "4310933   173.0             0     205000.0  \n",
       "4310936    94.0             1      95000.0  \n",
       "4310937    32.0             0      45000.0  \n",
       "\n",
       "[576869 rows x 7 columns]"
      ]
     },
     "execution_count": 27,
     "metadata": {},
     "output_type": "execute_result"
    }
   ],
   "source": [
    "tmp"
   ]
  },
  {
   "cell_type": "markdown",
   "metadata": {},
   "source": [
    "##### outliers"
   ]
  },
  {
   "cell_type": "code",
   "execution_count": 305,
   "metadata": {},
   "outputs": [],
   "source": [
    "import numpy as np\n",
    "from scipy import stats\n",
    "tmp[(np.abs(stats.zscore(tmp)) < 3).all(axis=1)]"
   ]
  },
  {
   "cell_type": "code",
   "execution_count": 35,
   "metadata": {},
   "outputs": [],
   "source": [
    "from sklearn.model_selection import train_test_split\n",
    "from sklearn.preprocessing import StandardScaler\n",
    "ss = StandardScaler()\n",
    "X_train, X_test, y_train, y_test = train_test_split(tmp.drop('action_taken',axis=1), \n",
    "                                                    tmp['action_taken'], test_size=0.30, \n",
    "                                                    random_state=101)\n",
    "X_train = ss.fit_transform(X_train)\n",
    "X_test = ss.fit_transform(X_test)"
   ]
  },
  {
   "cell_type": "code",
   "execution_count": 36,
   "metadata": {},
   "outputs": [],
   "source": [
    "from sklearn.linear_model import LogisticRegression\n",
    "logmodel = LogisticRegression()\n",
    "logmodel.fit(X_train,y_train)\n",
    "predictions = logmodel.predict(X_test)"
   ]
  },
  {
   "cell_type": "code",
   "execution_count": 48,
   "metadata": {},
   "outputs": [
    {
     "data": {
      "text/plain": [
       "0.295301522588562"
      ]
     },
     "execution_count": 48,
     "metadata": {},
     "output_type": "execute_result"
    }
   ],
   "source": [
    "from sklearn.metrics import r2_score\n",
    "r2_score(y_test, predictions)"
   ]
  },
  {
   "cell_type": "code",
   "execution_count": 31,
   "metadata": {},
   "outputs": [
    {
     "name": "stdout",
     "output_type": "stream",
     "text": [
      "              precision    recall  f1-score   support\n",
      "\n",
      "           0       0.95      0.97      0.96    151984\n",
      "           1       0.72      0.62      0.67     21077\n",
      "\n",
      "    accuracy                           0.92    173061\n",
      "   macro avg       0.84      0.79      0.81    173061\n",
      "weighted avg       0.92      0.92      0.92    173061\n",
      "\n"
     ]
    }
   ],
   "source": [
    "from sklearn.metrics import classification_report\n",
    "print(classification_report(y_test,predictions))"
   ]
  },
  {
   "cell_type": "markdown",
   "metadata": {},
   "source": [
    "#### Correlation between variables"
   ]
  },
  {
   "cell_type": "code",
   "execution_count": 38,
   "metadata": {},
   "outputs": [
    {
     "data": {
      "image/png": "[encoded data removed]",
      "text/plain": [
       "<Figure size 1152x432 with 2 Axes>"
      ]
     },
     "metadata": {
      "needs_background": "light"
     },
     "output_type": "display_data"
    }
   ],
   "source": [
    "plt.figure(figsize=(16, 6))\n",
    "hm=sns.heatmap(tmp.drop(['loan_type',\t'action_taken'],axis=1).corr(),vmin=-1, vmax=1, annot=True, cmap='BrBG')"
   ]
  },
  {
   "cell_type": "markdown",
   "metadata": {},
   "source": [
    "### SVM"
   ]
  },
  {
   "cell_type": "code",
   "execution_count": null,
   "metadata": {},
   "outputs": [],
   "source": [
    "from sklearn.pipeline import make_pipeline\n"
   ]
  },
  {
   "cell_type": "code",
   "execution_count": 39,
   "metadata": {},
   "outputs": [
    {
     "ename": "",
     "evalue": "",
     "output_type": "error",
     "traceback": [
      "\u001b[1;31mCanceled future for execute_request message before replies were done"
     ]
    }
   ],
   "source": [
    "from sklearn.svm import SVC\n",
    "from sklearn.pipeline import make_pipeline\n",
    "\n",
    "X_train, X_test, y_train, y_test = train_test_split(tmp.drop('action_taken',axis=1), \n",
    "                                                    tmp['action_taken'], test_size=0.30, \n",
    "                                                    random_state=101)\n",
    "\n",
    "clf = make_pipeline(StandardScaler(), SVC(gamma='auto'))\n",
    "clf.fit(X_train, y_train)"
   ]
  },
  {
   "cell_type": "code",
   "execution_count": null,
   "metadata": {},
   "outputs": [],
   "source": [
    "print(classification_report(y_test,clf.predict(X_test)))"
   ]
  },
  {
   "cell_type": "markdown",
   "metadata": {},
   "source": [
    "### Random Forest"
   ]
  },
  {
   "cell_type": "code",
   "execution_count": 37,
   "metadata": {},
   "outputs": [
    {
     "name": "stdout",
     "output_type": "stream",
     "text": [
      "              precision    recall  f1-score   support\n",
      "\n",
      "           0       0.94      0.97      0.96    151984\n",
      "           1       0.75      0.57      0.65     21077\n",
      "\n",
      "    accuracy                           0.92    173061\n",
      "   macro avg       0.85      0.77      0.80    173061\n",
      "weighted avg       0.92      0.92      0.92    173061\n",
      "\n"
     ]
    }
   ],
   "source": [
    "from sklearn.ensemble import RandomForestClassifier\n",
    "from sklearn.preprocessing import StandardScaler\n",
    "from sklearn.model_selection import train_test_split\n",
    "from sklearn.metrics import classification_report\n",
    "\n",
    "rf = RandomForestClassifier(max_depth=2, random_state=0)\n",
    "rf.fit(X_train, y_train)\n",
    "print(classification_report(y_test,rf.predict(X_test)))"
   ]
  },
  {
   "cell_type": "markdown",
   "metadata": {},
   "source": [
    "### Adaboosting"
   ]
  },
  {
   "cell_type": "code",
   "execution_count": 31,
   "metadata": {},
   "outputs": [],
   "source": [
    "# Load libraries\n",
    "from sklearn.ensemble import AdaBoostClassifier\n",
    "from sklearn import datasets\n",
    "# Import train_test_split function\n",
    "from sklearn.model_selection import train_test_split\n",
    "#Import scikit-learn metrics module for accuracy calculation\n",
    "from sklearn import metrics"
   ]
  },
  {
   "cell_type": "code",
   "execution_count": 62,
   "metadata": {},
   "outputs": [],
   "source": [
    "# Create adaboost classifer object\n",
    "abc = AdaBoostClassifier(n_estimators=50,\n",
    "                         learning_rate=0.8\n",
    "                          )\n",
    "# Train Adaboost Classifer\n",
    "abcmodel = abc.fit(X_train, y_train)\n",
    "\n",
    "#Predict the response for test dataset\n",
    "y_pred = abcmodel.predict(X_test)"
   ]
  },
  {
   "cell_type": "code",
   "execution_count": 57,
   "metadata": {},
   "outputs": [
    {
     "name": "stdout",
     "output_type": "stream",
     "text": [
      "              precision    recall  f1-score   support\n",
      "\n",
      "           0       0.98      0.95      0.97    151984\n",
      "           1       0.72      0.87      0.78     21077\n",
      "\n",
      "    accuracy                           0.94    173061\n",
      "   macro avg       0.85      0.91      0.87    173061\n",
      "weighted avg       0.95      0.94      0.94    173061\n",
      "\n"
     ]
    }
   ],
   "source": [
    "# 0.4 & 0.3\n",
    "print(classification_report(y_test,y_pred))"
   ]
  },
  {
   "cell_type": "code",
   "execution_count": 61,
   "metadata": {},
   "outputs": [
    {
     "name": "stdout",
     "output_type": "stream",
     "text": [
      "              precision    recall  f1-score   support\n",
      "\n",
      "           0       0.99      0.94      0.96    151984\n",
      "           1       0.68      0.91      0.78     21077\n",
      "\n",
      "    accuracy                           0.94    173061\n",
      "   macro avg       0.83      0.92      0.87    173061\n",
      "weighted avg       0.95      0.94      0.94    173061\n",
      "\n"
     ]
    }
   ],
   "source": [
    "# 0.6\n",
    "print(classification_report(y_test,y_pred))"
   ]
  },
  {
   "cell_type": "code",
   "execution_count": null,
   "metadata": {},
   "outputs": [],
   "source": []
  }
 ],
 "metadata": {
  "kernelspec": {
   "display_name": "Python 3.9.7 64-bit",
   "language": "python",
   "name": "python3"
  },
  "language_info": {
   "codemirror_mode": {
    "name": "ipython",
    "version": 3
   },
   "file_extension": ".py",
   "mimetype": "text/x-python",
   "name": "python",
   "nbconvert_exporter": "python",
   "pygments_lexer": "ipython3",
   "version": "3.9.7"
  },
  "orig_nbformat": 4,
  "vscode": {
   "interpreter": {
    "hash": "aee8b7b246df8f9039afb4144a1f6fd8d2ca17a180786b69acc140d282b71a49"
   }
  }
 },
 "nbformat": 4,
 "nbformat_minor": 2
}
